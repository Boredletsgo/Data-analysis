{
 "cells": [
  {
   "cell_type": "code",
   "execution_count": 1,
   "id": "a1ac7085",
   "metadata": {},
   "outputs": [],
   "source": [
    "import os\n",
    "import pandas as pd\n",
    "\n",
    "os.chdir(r'C:\\Users\\M K SAHU\\anaconda3\\Scripts')\n",
    "\n",
    "# Load the data from CSV\n",
    "google_ads_data = pd.read_csv('google_ads.csv')\n",
    "listing_site_data = pd.read_csv('listing_ads.csv')\n"
   ]
  },
  {
   "cell_type": "code",
   "execution_count": 2,
   "id": "d824af73",
   "metadata": {},
   "outputs": [],
   "source": [
    "combined_data = pd.concat([google_ads_data, listing_site_data], ignore_index=True)"
   ]
  },
  {
   "cell_type": "code",
   "execution_count": 3,
   "id": "ed8fa1f1",
   "metadata": {},
   "outputs": [
    {
     "name": "stdout",
     "output_type": "stream",
     "text": [
      "Index(['Week', 'Campaign', 'Ad group', 'Keyword type', 'Search Keyword',\n",
      "       'Currency', 'Clicks', 'Impressions', 'Cost ($)', 'Leads', 'Prospects',\n",
      "       'Payment ($)', 'Payment Date', 'Country'],\n",
      "      dtype='object')\n",
      "Index(['Product Name', 'Categories', 'Date of Report', 'Average Position',\n",
      "       'Clicks', 'Leads', 'Money Spent ($)', 'Channel', 'Location',\n",
      "       'Prospects', 'Paid', 'Paid Date'],\n",
      "      dtype='object')\n"
     ]
    }
   ],
   "source": [
    "print(google_ads_data.columns)\n",
    "print(listing_site_data.columns)\n"
   ]
  },
  {
   "cell_type": "code",
   "execution_count": 4,
   "id": "94942599",
   "metadata": {},
   "outputs": [],
   "source": [
    "combined_data = pd.concat([google_ads_data, listing_site_data], ignore_index=True)\n"
   ]
  },
  {
   "cell_type": "code",
   "execution_count": 5,
   "id": "d2efe2ed",
   "metadata": {},
   "outputs": [],
   "source": [
    "combined_data = pd.merge(google_ads_data, listing_site_data, left_on='Campaign', right_on='Product Name', how='inner')\n"
   ]
  },
  {
   "cell_type": "code",
   "execution_count": 6,
   "id": "cbf11769",
   "metadata": {},
   "outputs": [],
   "source": [
    "combined_data = pd.concat([google_ads_data[['Week', 'Campaign', 'Clicks', 'Impressions', 'Search Keyword','Cost ($)']],\n",
    "                           listing_site_data[['Date of Report', 'Product Name', 'Leads','Channel', 'Location','Money Spent ($)']]],\n",
    "                          axis=1)\n"
   ]
  },
  {
   "cell_type": "code",
   "execution_count": 7,
   "id": "88e03081",
   "metadata": {},
   "outputs": [],
   "source": [
    "#all the common stuff is removed"
   ]
  },
  {
   "cell_type": "code",
   "execution_count": 8,
   "id": "dd8398df",
   "metadata": {},
   "outputs": [
    {
     "name": "stdout",
     "output_type": "stream",
     "text": [
      "Index(['Week', 'Campaign', 'Clicks', 'Impressions', 'Search Keyword',\n",
      "       'Cost ($)', 'Date of Report', 'Product Name', 'Leads', 'Channel',\n",
      "       'Location', 'Money Spent ($)'],\n",
      "      dtype='object')\n"
     ]
    }
   ],
   "source": [
    "print(combined_data.columns)"
   ]
  },
  {
   "cell_type": "code",
   "execution_count": 19,
   "id": "35c7b1ea",
   "metadata": {},
   "outputs": [
    {
     "name": "stdout",
     "output_type": "stream",
     "text": [
      "           Week                  Campaign  Clicks  Impressions  \\\n",
      "0     25/Jan/21       EK_Generic_Swimming     2.0         17.0   \n",
      "1     25/Jan/21       EK_Generic_Swimming     1.0         13.0   \n",
      "2     25/Jan/21  EK_Generic_Quad-Tok_Yoga     4.0        154.0   \n",
      "3     25/Jan/21       EK_Generic_Swimming     2.0          8.0   \n",
      "4     25/Jan/21    EK_Generic_Swimming_UK     2.0         13.0   \n",
      "...         ...                       ...     ...          ...   \n",
      "2086        NaN                       NaN     NaN          NaN   \n",
      "2087        NaN                       NaN     NaN          NaN   \n",
      "2088        NaN                       NaN     NaN          NaN   \n",
      "2089        NaN                       NaN     NaN          NaN   \n",
      "2090        NaN                       NaN     NaN          NaN   \n",
      "\n",
      "                    Search Keyword  Cost ($) Date of Report Product Name  \\\n",
      "0          pool reservation system     38.33     2020-10-20       Omnify   \n",
      "1                 pool booking app     11.70     2020-10-20       Omnify   \n",
      "2     yoga studio booking software     45.13     2020-10-20       Omnify   \n",
      "3         pool scheduling software     23.91     2020-10-20       Omnify   \n",
      "4        pool reservation software      4.89     2020-10-21       Omnify   \n",
      "...                            ...       ...            ...          ...   \n",
      "2086                           NaN       NaN     2021-04-30       Omnify   \n",
      "2087                           NaN       NaN     2021-04-30       Omnify   \n",
      "2088                           NaN       NaN     2021-04-30       Omnify   \n",
      "2089                           NaN       NaN     2021-04-30       Omnify   \n",
      "2090                           NaN       NaN     2021-04-30       Omnify   \n",
      "\n",
      "      Leads          Channel        Location  Money Spent ($)  \n",
      "0       NaN         Capterra   UNITED STATES             2.00  \n",
      "1       NaN         Capterra  UNITED KINGDOM             2.00  \n",
      "2       NaN         Capterra       SINGAPORE             2.00  \n",
      "3       NaN           GetApp   UNITED STATES             2.00  \n",
      "4       NaN         Capterra       AUSTRALIA             2.00  \n",
      "...     ...              ...             ...              ...  \n",
      "2086    NaN         Capterra   United States            10.75  \n",
      "2087    NaN  Software Advice  United Kingdom            12.25  \n",
      "2088    NaN         Capterra   United States             6.00  \n",
      "2089    NaN         Capterra  United Kingdom            11.50  \n",
      "2090    NaN         Capterra          Canada            11.25  \n",
      "\n",
      "[2091 rows x 12 columns]\n"
     ]
    }
   ],
   "source": [
    "print(combined_data)"
   ]
  },
  {
   "cell_type": "code",
   "execution_count": 20,
   "id": "4bb959ca",
   "metadata": {},
   "outputs": [],
   "source": [
    "combined_data.to_csv('combined_data.csv', index=False)"
   ]
  },
  {
   "cell_type": "code",
   "execution_count": 9,
   "id": "83efb170",
   "metadata": {},
   "outputs": [],
   "source": [
    "combined_data['Date of Report'] = pd.to_datetime(combined_data['Date of Report'])\n",
    "weekly_report = combined_data.resample('W', on='Date of Report').sum()\n",
    "monthly_report = combined_data.resample('M', on='Date of Report').sum()"
   ]
  },
  {
   "cell_type": "code",
   "execution_count": 10,
   "id": "e1c4f0cf",
   "metadata": {},
   "outputs": [],
   "source": [
    "import matplotlib.pyplot as plt"
   ]
  },
  {
   "cell_type": "code",
   "execution_count": 11,
   "id": "23a3e557",
   "metadata": {
    "scrolled": true
   },
   "outputs": [],
   "source": [
    "channel_profitability = combined_data.groupby('Channel')['Money Spent ($)'].mean()\n",
    "most_profitable_channel = channel_profitability.idxmax()"
   ]
  },
  {
   "cell_type": "code",
   "execution_count": 12,
   "id": "5ddc70b8",
   "metadata": {},
   "outputs": [],
   "source": [
    "category_keyword_profitability = combined_data.groupby(['Clicks', 'Search Keyword'])['Impressions'].mean()\n",
    "most_profitable_category_keyword = category_keyword_profitability.idxmax()"
   ]
  },
  {
   "cell_type": "code",
   "execution_count": 13,
   "id": "7eb74ca6",
   "metadata": {},
   "outputs": [
    {
     "data": {
      "image/png": "[encoded data removed]",
      "text/plain": [
       "<Figure size 1200x600 with 1 Axes>"
      ]
     },
     "metadata": {},
     "output_type": "display_data"
    }
   ],
   "source": [
    "plt.figure(figsize=(12, 6))\n",
    "plt.plot(weekly_report.index, weekly_report['Cost ($)'], label='Spends')\n",
    "plt.plot(weekly_report.index, weekly_report['Money Spent ($)'], label='Returns')\n",
    "plt.xlabel('Week')\n",
    "plt.ylabel('Amount')\n",
    "plt.legend()\n",
    "plt.title('Weekly Spends and Returns')\n",
    "plt.show()"
   ]
  },
  {
   "cell_type": "code",
   "execution_count": 14,
   "id": "9160b56e",
   "metadata": {
    "scrolled": true
   },
   "source": [
    "geography_impact = combined_data.groupby('Location')['Cost ($)', 'Money Spent ($)'].sum()"
   ]
  },
  {
   "cell_type": "code",
   "execution_count": 15,
   "id": "7a9b57c2",
   "metadata": {},
   "outputs": [
    {
     "name": "stdout",
     "output_type": "stream",
     "text": [
      "Most Profitable Channel: Capterra\n"
     ]
    }
   ],
   "source": [
    "print(\"Most Profitable Channel:\", most_profitable_channel)"
   ]
  },
  {
   "cell_type": "code",
   "execution_count": 21,
   "id": "79c811b8",
   "metadata": {},
   "outputs": [
    {
     "name": "stdout",
     "output_type": "stream",
     "text": [
      "Profitable keyword (10.0, 'yoga studio booking software')\n"
     ]
    }
   ],
   "source": [
    "print(\"Profitable keyword\", most_profitable_category_keyword)"
   ]
  },
  {
   "cell_type": "code",
   "execution_count": 17,
   "id": "d2e99f95",
   "metadata": {},
   "outputs": [
    {
     "name": "stdout",
     "output_type": "stream",
     "text": [
      "Impact:                  Cost ($)  Money Spent ($)\n",
      "Location                                 \n",
      "AUSTRALIA         306.16          1192.75\n",
      "Australia           0.00            31.50\n",
      "CANADA            297.70          1277.50\n",
      "Canada              0.00            92.25\n",
      "Middle East         0.00             0.00\n",
      "SINGAPORE         382.59          2100.75\n",
      "Singapore           0.00           142.50\n",
      "UK                  0.00            10.75\n",
      "UNITED KINGDOM    383.81          4177.85\n",
      "UNITED STATES    1418.42         14587.15\n",
      "US                  0.00            11.25\n",
      "USA                 0.00            77.75\n",
      "United Kingdom      0.00           173.25\n",
      "United States       0.00          1348.00\n"
     ]
    }
   ],
   "source": [
    "print(\"Impact Of Geography: \", geography_impact)"
   ]
  },
  {
   "cell_type": "code",
   "execution_count": 18,
   "id": "79052e02",
   "metadata": {
    "scrolled": true
   },
   "outputs": [
    {
     "name": "stdout",
     "output_type": "stream",
     "text": [
      "           Week                  Campaign  Clicks  Impressions  \\\n",
      "0     25/Jan/21       EK_Generic_Swimming     2.0         17.0   \n",
      "1     25/Jan/21       EK_Generic_Swimming     1.0         13.0   \n",
      "2     25/Jan/21  EK_Generic_Quad-Tok_Yoga     4.0        154.0   \n",
      "3     25/Jan/21       EK_Generic_Swimming     2.0          8.0   \n",
      "4     25/Jan/21    EK_Generic_Swimming_UK     2.0         13.0   \n",
      "...         ...                       ...     ...          ...   \n",
      "2086        NaN                       NaN     NaN          NaN   \n",
      "2087        NaN                       NaN     NaN          NaN   \n",
      "2088        NaN                       NaN     NaN          NaN   \n",
      "2089        NaN                       NaN     NaN          NaN   \n",
      "2090        NaN                       NaN     NaN          NaN   \n",
      "\n",
      "                    Search Keyword  Cost ($) Date of Report Product Name  \\\n",
      "0          pool reservation system     38.33     2020-10-20       Omnify   \n",
      "1                 pool booking app     11.70     2020-10-20       Omnify   \n",
      "2     yoga studio booking software     45.13     2020-10-20       Omnify   \n",
      "3         pool scheduling software     23.91     2020-10-20       Omnify   \n",
      "4        pool reservation software      4.89     2020-10-21       Omnify   \n",
      "...                            ...       ...            ...          ...   \n",
      "2086                           NaN       NaN     2021-04-30       Omnify   \n",
      "2087                           NaN       NaN     2021-04-30       Omnify   \n",
      "2088                           NaN       NaN     2021-04-30       Omnify   \n",
      "2089                           NaN       NaN     2021-04-30       Omnify   \n",
      "2090                           NaN       NaN     2021-04-30       Omnify   \n",
      "\n",
      "      Leads          Channel        Location  Money Spent ($)  \n",
      "0       NaN         Capterra   UNITED STATES             2.00  \n",
      "1       NaN         Capterra  UNITED KINGDOM             2.00  \n",
      "2       NaN         Capterra       SINGAPORE             2.00  \n",
      "3       NaN           GetApp   UNITED STATES             2.00  \n",
      "4       NaN         Capterra       AUSTRALIA             2.00  \n",
      "...     ...              ...             ...              ...  \n",
      "2086    NaN         Capterra   United States            10.75  \n",
      "2087    NaN  Software Advice  United Kingdom            12.25  \n",
      "2088    NaN         Capterra   United States             6.00  \n",
      "2089    NaN         Capterra  United Kingdom            11.50  \n",
      "2090    NaN         Capterra          Canada            11.25  \n",
      "\n",
      "[2091 rows x 12 columns]\n"
     ]
    }
   ],
   "source": [
    "print(combined_data)"
   ]
  },
  {
   "cell_type": "code",
   "execution_count": null,
   "id": "4268882c",
   "metadata": {},
   "outputs": [],
   "source": []
  }
 ],
 "metadata": {
  "kernelspec": {
   "display_name": "Python 3 (ipykernel)",
   "language": "python",
   "name": "python3"
  },
  "language_info": {
   "codemirror_mode": {
    "name": "ipython",
    "version": 3
   },
   "file_extension": ".py",
   "mimetype": "text/x-python",
   "name": "python",
   "nbconvert_exporter": "python",
   "pygments_lexer": "ipython3",
   "version": "3.9.13"
  }
 },
 "nbformat": 4,
 "nbformat_minor": 5
}
